{
 "cells": [
  {
   "cell_type": "code",
   "execution_count": 1,
   "metadata": {},
   "outputs": [],
   "source": [
    "import numpy as np\n",
    "import matplotlib.pyplot as plt\n",
    "import pandas as pd"
   ]
  },
  {
   "cell_type": "code",
   "execution_count": 2,
   "metadata": {},
   "outputs": [],
   "source": [
    "dataset = pd.read_csv(\"Data.csv\")\n",
    "X = dataset.iloc[:, :-1].values\n",
    "y = dataset.iloc[:, -1].values"
   ]
  },
  {
   "cell_type": "code",
   "execution_count": 3,
   "metadata": {},
   "outputs": [],
   "source": [
    "from sklearn.model_selection import train_test_split\n",
    "X_train, X_test, y_train, y_test = train_test_split(X, y, train_size = 0.8, random_state = 7)"
   ]
  },
  {
   "cell_type": "code",
   "execution_count": 4,
   "metadata": {},
   "outputs": [],
   "source": [
    "from sklearn.preprocessing import StandardScaler\n",
    "scaler = StandardScaler()\n",
    "X_train = scaler.fit_transform(X_train)\n",
    "X_test = scaler.transform(X_test)"
   ]
  },
  {
   "cell_type": "code",
   "execution_count": 5,
   "metadata": {},
   "outputs": [],
   "source": [
    "from matplotlib.colors import ListedColormap"
   ]
  },
  {
   "cell_type": "code",
   "execution_count": 6,
   "metadata": {},
   "outputs": [],
   "source": [
    "def ResultShow(classifier, title):\n",
    "    print(title, classifier.score(X_test, y_test))\n",
    "    # X_set, y_set = scaler.inverse_transform(X_test), y_test\n",
    "    # X1, X2 = np.meshgrid(np.arange(X_set[:, 0].min()-10, X_set[:, 0].max()+10, 0.25),\n",
    "    #                     np.arange(X_set[:, 1].min()-1000, X_set[:, 1].max()+1000, 25))\n",
    "    # all_points = np.array([X1.ravel(), X2.ravel()]).T\n",
    "    # plt.contourf(X1, X2, classifier.predict(scaler.transform(all_points)).reshape(X1.shape), alpha = 0.7, cmap = ListedColormap((\"red\", \"blue\")))\n",
    "    # for i in range(0, 2):\n",
    "    #     plt.scatter(X_set[y_set == i, 0], X_set[y_set == i, 1], c = ListedColormap((\"red\", \"blue\"))(i), label = i)\n",
    "    # real_title = f\"{title} Accuracy : {classifier.score(X_test, y_test)}\"\n",
    "    # plt.title(real_title, fontdict={\"color\": \"green\"})"
   ]
  },
  {
   "cell_type": "code",
   "execution_count": 7,
   "metadata": {},
   "outputs": [
    {
     "name": "stdout",
     "output_type": "stream",
     "text": [
      "Logistic Regression (Test Set) 0.9708029197080292\n"
     ]
    }
   ],
   "source": [
    "from sklearn.linear_model import LogisticRegression\n",
    "classifier = LogisticRegression(random_state=7)\n",
    "classifier.fit(X_train, y_train)\n",
    "ResultShow(classifier, \"Logistic Regression (Test Set)\")"
   ]
  },
  {
   "cell_type": "code",
   "execution_count": 8,
   "metadata": {},
   "outputs": [
    {
     "name": "stdout",
     "output_type": "stream",
     "text": [
      "K-Nearest Neighbors(KNN) (Test Set) 0.9708029197080292\n"
     ]
    }
   ],
   "source": [
    "from sklearn.neighbors import KNeighborsClassifier\n",
    "knnclassifier = KNeighborsClassifier(n_neighbors = 5, metric = \"minkowski\", p = 2, )\n",
    "knnclassifier.fit(X_train, y_train)\n",
    "ResultShow(knnclassifier, \"K-Nearest Neighbors(KNN) (Test Set)\")"
   ]
  },
  {
   "cell_type": "code",
   "execution_count": 9,
   "metadata": {},
   "outputs": [
    {
     "name": "stdout",
     "output_type": "stream",
     "text": [
      "Support Vector Machine(SVM) (Test Set) 0.9708029197080292\n"
     ]
    }
   ],
   "source": [
    "from sklearn.svm import SVC\n",
    "sv_classifier = SVC(kernel=\"linear\", random_state=7)\n",
    "sv_classifier.fit(X_train, y_train)\n",
    "ResultShow(sv_classifier, \"Support Vector Machine(SVM) (Test Set)\")"
   ]
  },
  {
   "cell_type": "code",
   "execution_count": 10,
   "metadata": {},
   "outputs": [
    {
     "name": "stdout",
     "output_type": "stream",
     "text": [
      "Kernel SVM (Test Set) 0.9635036496350365\n"
     ]
    }
   ],
   "source": [
    "kernel_svm = SVC(kernel=\"rbf\", random_state=7)\n",
    "kernel_svm.fit(X_train, y_train)\n",
    "ResultShow(kernel_svm, \"Kernel SVM (Test Set)\")"
   ]
  },
  {
   "cell_type": "code",
   "execution_count": 11,
   "metadata": {},
   "outputs": [
    {
     "name": "stdout",
     "output_type": "stream",
     "text": [
      "Naive Bayes (Test Set) 0.9708029197080292\n"
     ]
    }
   ],
   "source": [
    "from sklearn.naive_bayes import GaussianNB\n",
    "naive_classifier = GaussianNB()\n",
    "naive_classifier.fit(X_train, y_train)\n",
    "ResultShow(naive_classifier, \"Naive Bayes (Test Set)\")"
   ]
  },
  {
   "cell_type": "code",
   "execution_count": 12,
   "metadata": {},
   "outputs": [
    {
     "name": "stdout",
     "output_type": "stream",
     "text": [
      "Decision Tree Classification (Test Set) 0.948905109489051\n"
     ]
    }
   ],
   "source": [
    "from sklearn.tree import DecisionTreeClassifier\n",
    "dt_classifier = DecisionTreeClassifier(random_state=7)\n",
    "dt_classifier.fit(X_train, y_train)\n",
    "ResultShow(dt_classifier, \"Decision Tree Classification (Test Set)\")"
   ]
  },
  {
   "cell_type": "code",
   "execution_count": 13,
   "metadata": {},
   "outputs": [
    {
     "name": "stdout",
     "output_type": "stream",
     "text": [
      "Random Forest Classification (Test Set) 0.9854014598540146\n"
     ]
    }
   ],
   "source": [
    "from sklearn.ensemble import RandomForestClassifier\n",
    "rf_classifier = RandomForestClassifier(random_state = 7)\n",
    "rf_classifier.fit(X_train, y_train)\n",
    "ResultShow(rf_classifier, \"Random Forest Classification (Test Set)\")"
   ]
  },
  {
   "cell_type": "code",
   "execution_count": null,
   "metadata": {},
   "outputs": [],
   "source": []
  }
 ],
 "metadata": {
  "kernelspec": {
   "display_name": "Python 3",
   "language": "python",
   "name": "python3"
  },
  "language_info": {
   "codemirror_mode": {
    "name": "ipython",
    "version": 3
   },
   "file_extension": ".py",
   "mimetype": "text/x-python",
   "name": "python",
   "nbconvert_exporter": "python",
   "pygments_lexer": "ipython3",
   "version": "3.9.12"
  }
 },
 "nbformat": 4,
 "nbformat_minor": 2
}
