{
 "cells": [
  {
   "cell_type": "code",
   "execution_count": 1,
   "metadata": {},
   "outputs": [],
   "source": [
    "import numpy as np\n",
    "import matplotlib.pyplot as plt\n",
    "import pandas as pd"
   ]
  },
  {
   "cell_type": "code",
   "execution_count": 2,
   "metadata": {},
   "outputs": [],
   "source": [
    "dataset = pd.read_csv(\"Social_Network_Ads.csv\")\n",
    "X = dataset.iloc[:, :-1].values\n",
    "y = dataset.iloc[:, -1].values"
   ]
  },
  {
   "cell_type": "code",
   "execution_count": 3,
   "metadata": {},
   "outputs": [],
   "source": [
    "from sklearn.model_selection import train_test_split\n",
    "X_train, X_test, y_train, y_test = train_test_split(X, y, train_size = 0.8, random_state = 7)"
   ]
  },
  {
   "cell_type": "code",
   "execution_count": 4,
   "metadata": {},
   "outputs": [],
   "source": [
    "from sklearn.preprocessing import StandardScaler\n",
    "scaler = StandardScaler()\n",
    "X_train = scaler.fit_transform(X_train)\n",
    "X_test = scaler.transform(X_test)"
   ]
  },
  {
   "cell_type": "code",
   "execution_count": 5,
   "metadata": {},
   "outputs": [],
   "source": [
    "from matplotlib.colors import ListedColormap"
   ]
  },
  {
   "cell_type": "code",
   "execution_count": 6,
   "metadata": {},
   "outputs": [],
   "source": [
    "def DrawResult(classifier, title):\n",
    "    X_set, y_set = scaler.inverse_transform(X_test), y_test\n",
    "    X1, X2 = np.meshgrid(np.arange(X_set[:, 0].min()-10, X_set[:, 0].max()+10, 0.25),\n",
    "                        np.arange(X_set[:, 1].min()-1000, X_set[:, 1].max()+1000, 25))\n",
    "    all_points = np.array([X1.ravel(), X2.ravel()]).T\n",
    "    plt.contourf(X1, X2, classifier.predict(scaler.transform(all_points)).reshape(X1.shape), alpha = 0.7, cmap = ListedColormap((\"red\", \"blue\")))\n",
    "    for i in range(0, 2):\n",
    "        plt.scatter(X_set[y_set == i, 0], X_set[y_set == i, 1], c = ListedColormap((\"red\", \"blue\"))(i), label = i)\n",
    "    real_title = f\"{title} Accuracy : {classifier.score(X_test, y_test)}\"\n",
    "    plt.title(real_title, fontdict={\"color\": \"green\"})"
   ]
  },
  {
   "cell_type": "code",
   "execution_count": null,
   "metadata": {},
   "outputs": [],
   "source": []
  }
 ],
 "metadata": {
  "kernelspec": {
   "display_name": "Python 3",
   "language": "python",
   "name": "python3"
  },
  "language_info": {
   "codemirror_mode": {
    "name": "ipython",
    "version": 3
   },
   "file_extension": ".py",
   "mimetype": "text/x-python",
   "name": "python",
   "nbconvert_exporter": "python",
   "pygments_lexer": "ipython3",
   "version": "3.9.12"
  }
 },
 "nbformat": 4,
 "nbformat_minor": 2
}
